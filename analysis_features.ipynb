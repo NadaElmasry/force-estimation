{
 "cells": [
  {
   "cell_type": "code",
   "execution_count": null,
   "metadata": {},
   "outputs": [],
   "source": [
    "import matplotlib.pyplot as plt\n",
    "import numpy as np\n",
    "from path import Path\n",
    "import pickle\n",
    "from prettytable import PrettyTable\n",
    "from scipy.signal import argrelextrema, find_peaks\n",
    "plt.rcParams[\"font.family\"] = \"serif\"\n",
    "plt.rcParams['font.serif'] = ['Times New Roman'] + plt.rcParams['font.serif']\n",
    "plt.rc('xtick', labelsize=14)    # fontsize of the tick labels\n",
    "plt.rc('ytick', labelsize=14) "
   ]
  },
  {
   "cell_type": "code",
   "execution_count": null,
   "metadata": {},
   "outputs": [],
   "source": [
    "# First run the test.py to create the results pickle file for analysis\n",
    "architectures = ['cnn', 'fc', 'vit', 'rvit', 'rcnn']\n",
    "datasets = ['chua', 'img2force', 'mixed']\n",
    "features = ['random', 'stiffness']\n",
    "data = ['rgb']\n",
    "save_dir = Path('results')"
   ]
  },
  {
   "cell_type": "code",
   "execution_count": null,
   "metadata": {},
   "outputs": [],
   "source": [
    "# Load the data file or files\n",
    "t_rmse = PrettyTable()\n",
    "t_dtw = PrettyTable()\n",
    "t_rmse.title = \"Isolated feature RMSE (N)\"\n",
    "t_rmse.field_names = [\"Models\"] + [\"{}\".format(f) for f in features]\n",
    "results = {}\n",
    "for s in datasets:\n",
    "    for d in data:\n",
    "        for arch in architectures:\n",
    "            shared_rmse_v, shared_rmse_s = [], []\n",
    "            test_rmse_v, test_rmse_s = [], []\n",
    "            for f in features:\n",
    "                file_s = save_dir/\"{}/{}/{}_state_{}.pkl\".format(s, d, arch, f)\n",
    "                with open(file_s, 'rb') as fileobject:\n",
    "                    results_s = pickle.load(fileobject)       \n",
    "                results[\"{}_{}_{}_state_{}\".format(s, d, arch, f)] = results_s\n",
    "                test_rmse_s.append((results_s['test_rmse'].mean() - results_s['test_rmse'].min()) / (results_s['test_rmse'].max() - results_s['test_rmse'].min()))\n",
    "\n",
    "            t_rmse.add_row([\"{}_{}_{}_state\".format(s, d, arch)] + [\"{:.2f}\".format(a) for a in test_rmse_s])\n",
    "\n",
    "print(t_rmse)"
   ]
  },
  {
   "cell_type": "code",
   "execution_count": null,
   "metadata": {},
   "outputs": [],
   "source": [
    "# Cell to plot the force estimation for the unseen testing set\n",
    "my_dpi = 100\n",
    "labels = ['X', 'Y', 'Z']\n",
    "ranges = {\"chua\": [[30*10, 30*13], [30*10, 30*15], [30*84, 30*87]],\n",
    "          \"img2force\": [[30*10, 30*13], [30*10, 30*15], [30*10, 30*15]],\n",
    "          \"mixed\": [[30*10, 30*13], [30*10, 30*15], [30*84, 30*87]]}\n",
    "\n",
    "save_fig_root = Path('figures')  \n",
    "for s in datasets:\n",
    "    x = (1/30)*np.linspace(0, len(results['{}_rgb_cnn_state_random'.format(s)]['test_gt']), len(results['{}_rgb_cnn_state_random'.format(s)]['test_gt']))\n",
    "    x_rnn = (1/30)*np.linspace(0, len(results['{}_rgb_cnn_state_random'.format(s)]['test_gt']), len(results['{}_rgb_rcnn_state_random'.format(s)]['test_pred']))\n",
    "    range_s = ranges[s]\n",
    "    for f in features:\n",
    "        for d in data:\n",
    "            fig, axs = plt.subplots(ncols=1, nrows=3, sharex=False, sharey=False, figsize=(1920/my_dpi, 1080/my_dpi), dpi=my_dpi)\n",
    "            fig.suptitle(\"{} force estimation in unknown {} environment\".format(s, f), fontsize=24, fontweight='bold')\n",
    "            for j, ax in enumerate(axs):\n",
    "                r = range_s[j]\n",
    "                ax.plot(x[r[0]:r[1]], results['{}_{}_cnn_state_{}'.format(s, d, f)]['test_gt'][r[0]:r[1], j], 'b', linewidth=3.0)\n",
    "                ax.plot(x[r[0]:r[1]], results['{}_{}_cnn_state_{}'.format(s, d, f)]['test_pred'][r[0]:r[1], j], 'g', linewidth=3.0)\n",
    "                ax.plot(x[r[0]:r[1]], results['{}_{}_vit_state_{}'.format(s, d, f)]['test_pred'][r[0]:r[1], j], 'y', linewidth=3.0)\n",
    "                ax.plot(x[r[0]+4:r[1]+4], results['{}_{}_rcnn_state_{}'.format(s, d, f)]['test_pred'][r[0]:r[1], j], 'r', linewidth=3.0)\n",
    "                ax.plot(x[r[0]+4:r[1]+4], results['{}_{}_rvit_state_{}'.format(s, d, f)]['test_pred'][r[0]:r[1], j], 'k', linewidth=3.0)\n",
    "                ax.plot(x[r[0]:r[1]], results['{}_{}_fc_state_{}'.format(s, d, f)]['test_pred'][r[0]:r[1], j], 'm', linewidth=3.0)\n",
    "                # ax.legend([\"GT\", \"CNN\", \"CNN-BAM\", \"RNN\", \"RNN-BAM\", 'FC'], fontsize=14)\n",
    "                ax.legend([\"GT\", \"CNN\", \"VIT\", \"R-CNN\", \"R-VIT\", \"FC\"], fontsize=14)\n",
    "                ax.set_ylabel(\"Force {} (N)\".format(labels[j]), fontsize=16, fontweight='bold')\n",
    "                if j == 2:\n",
    "                    ax.set_xlabel(\"Time (s)\", fontsize=16, fontweight='bold')\n",
    "\n",
    "            fig.align_labels()\n",
    "            save_fig_path = save_fig_root/\"{}\".format(s)\n",
    "            save_fig_path.makedirs_p()\n",
    "            fig.savefig(save_fig_path/\"{}.png\".format(f), dpi=my_dpi)\n",
    "            plt.show()"
   ]
  },
  {
   "cell_type": "code",
   "execution_count": null,
   "metadata": {},
   "outputs": [],
   "source": [
    "my_dpi = 100\n",
    "ranges = {\"chua\": [[30*10, 30*13], [30*10, 30*15], [30*84, 30*87]],\n",
    "          \"img2force\": [[30*10, 30*13], [30*10, 30*15], [30*10, 30*15]],\n",
    "          \"mixed\": [[30*10, 30*13], [30*10, 30*15], [30*84, 30*87]]}\n",
    "\n",
    "for s in datasets:\n",
    "    x = (1/30)*np.linspace(0, len(results['{}_rgb_cnn_state_random'.format(s)]['test_gt']), len(results['{}_rgb_cnn_state_random'.format(s)]['test_gt']))\n",
    "    x_rnn = (1/30)*np.linspace(0, len(results['{}_rgb_cnn_state_random'.format(s)]['test_gt']), len(results['{}_rgb_rcnn_state_random'.format(s)]['test_pred']))\n",
    "    range_s = ranges[s]\n",
    "    for f in features:\n",
    "        for d in data:\n",
    "            r = range_s[j]\n",
    "            fig, ax = plt.subplots(ncols=1, nrows=1, sharex=False, sharey=False, figsize=(1920/my_dpi, 1080/my_dpi), dpi=my_dpi)\n",
    "            fig.suptitle(\"{} evolution of RMSE in unknown {} environment\".format(s, f), fontsize=24, fontweight='bold')\n",
    "            # ax.plot(x, results['{}_{}_cnn_state_{}'.format(s, d, f)]['test_gt'][r[0]:r[1], j], 'b', linewidth=3.0)\n",
    "            ax.plot(x[r[0]:r[1]], results['{}_{}_cnn_state_{}'.format(s, d, f)]['test_rmse'][r[0]:r[1]], 'g', linewidth=3.0)\n",
    "            ax.plot(x[r[0]:r[1]], results['{}_{}_vit_state_{}'.format(s, d, f)]['test_rmse'][r[0]:r[1]], 'y', linewidth=3.0)\n",
    "            ax.plot(x[r[0]+4:r[1]+4], results['{}_{}_rcnn_state_{}'.format(s, d, f)]['test_rmse'][r[0]:r[1]], 'r', linewidth=3.0)\n",
    "            ax.plot(x[r[0]+4:r[1]+4], results['{}_{}_rvit_state_{}'.format(s, d, f)]['test_rmse'][r[0]:r[1]], 'k', linewidth=3.0)\n",
    "            ax.plot(x[r[0]:r[1]], results['{}_{}_fc_state_{}'.format(s, d, f)]['test_rmse'][r[0]:r[1]], 'm', linewidth=3.0)\n",
    "            # ax.legend([\"GT\", \"CNN\", \"CNN-BAM\", \"RNN\", \"RNN-BAM\", 'FC'], fontsize=14)\n",
    "            ax.legend([\"CNN\", \"VIT\", \"R-CNN\", \"R-VIT\", \"FC\"], fontsize=14)\n",
    "            ax.set_ylabel(\"RMSE (N)\", fontsize=16, fontweight='bold')\n",
    "            ax.set_xlabel(\"Time (s)\", fontsize=16, fontweight='bold')\n",
    "        \n",
    "        save_fig_path = save_fig_root/\"{}\".format(s)\n",
    "        save_fig_path.makedirs_p()\n",
    "        fig.align_labels()\n",
    "        fig.savefig(save_fig_path/'metrics_{}.png'.format(f), dpi=my_dpi)\n",
    "        plt.show()"
   ]
  },
  {
   "cell_type": "code",
   "execution_count": null,
   "metadata": {},
   "outputs": [],
   "source": [
    "fig = plt.figure()\n",
    "for s in datasets:\n",
    "    for d in data:\n",
    "        for f in features:\n",
    "            peaks_x, _ = find_peaks(results[\"{}_{}_cnn_state_{}\".format(s, d, f)][\"test_gt\"][:, 0], distance=150)\n",
    "            peaks_y, _ = find_peaks(results[\"{}_{}_cnn_state_{}\".format(s, d, f)][\"test_gt\"][:, 1], distance=150)\n",
    "            peaks_z, _ = find_peaks(results[\"{}_{}_cnn_state_{}\".format(s, d, f)][\"test_gt\"][:, 2], distance=150)\n",
    "            for arch in architectures:\n",
    "                rmse_x = results[\"{}_{}_{}_state_{}\".format(s, d, arch, f)][\"test_rmse\"][peaks_x].mean()\n",
    "                rmse_y = results[\"{}_{}_{}_state_{}\".format(s, d, arch, f)][\"test_rmse\"][peaks_y].mean()\n",
    "                rmse_z = results[\"{}_{}_{}_state_{}\".format(s, d, arch, f)][\"test_rmse\"][peaks_z].mean()\n",
    "                langs = [\"X\", \"Y\", \"Z\"]\n",
    "                rmse = [rmse_x, rmse_y, rmse_z]\n",
    "                plt.bar(langs, rmse)\n",
    "                plt.pause(3.0)\n",
    "                \n"
   ]
  }
 ],
 "metadata": {
  "kernelspec": {
   "display_name": "py3.11",
   "language": "python",
   "name": "python3"
  },
  "language_info": {
   "codemirror_mode": {
    "name": "ipython",
    "version": 3
   },
   "file_extension": ".py",
   "mimetype": "text/x-python",
   "name": "python",
   "nbconvert_exporter": "python",
   "pygments_lexer": "ipython3",
   "version": "3.11.3"
  },
  "orig_nbformat": 4,
  "vscode": {
   "interpreter": {
    "hash": "be17f01356bc3fe61b2f98816b02e4e5e5b547bfe2b5c8974c8f0394e0dd0b66"
   }
  }
 },
 "nbformat": 4,
 "nbformat_minor": 2
}
