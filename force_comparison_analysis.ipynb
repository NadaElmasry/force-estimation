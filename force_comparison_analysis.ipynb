{
 "cells": [
  {
   "cell_type": "code",
   "execution_count": null,
   "metadata": {},
   "outputs": [],
   "source": [
    "import matplotlib.pyplot as plt\n",
    "import numpy as np\n",
    "from matplotlib.gridspec import GridSpec\n",
    "from matplotlib.animation import FuncAnimation\n",
    "import os\n",
    "from path import Path\n",
    "import pickle\n",
    "plt.rcParams[\"font.family\"] = \"serif\"\n",
    "plt.rcParams['font.serif'] = ['Times New Roman'] + plt.rcParams['font.serif']"
   ]
  },
  {
   "cell_type": "code",
   "execution_count": null,
   "metadata": {},
   "outputs": [],
   "source": [
    "# First run the test.py to create the results pickle file for analysis\n",
    "architectures = ['vit', 'cnn']\n",
    "include_state = True\n",
    "train_type = 'structure'\n",
    "save_dir = Path('results')"
   ]
  },
  {
   "cell_type": "code",
   "execution_count": null,
   "metadata": {},
   "outputs": [],
   "source": [
    "# Load the data file or files\n",
    "results = {}\n",
    "for arch in architectures:\n",
    "    filename = save_dir/'{}_{}_{}.pkl'.format(arch, \"state\" if include_state else \"visu\", train_type)\n",
    "    with open(filename, 'rb') as f:\n",
    "        data = pickle.load(f)\n",
    "    results[arch] = data\n"
   ]
  },
  {
   "cell_type": "code",
   "execution_count": null,
   "metadata": {},
   "outputs": [],
   "source": [
    "# Cell to plot the force estimation for both the cnn and the vit to compare with the ground truth\n",
    "x = (1/30)*np.linspace(0, 580, len(results['vit']['gt']))\n",
    "\n",
    "fig, ax = plt.subplots(ncols=1, nrows=3, sharex=False, sharey = False, figsize=(12, 6))\n",
    "fig.suptitle(\"Force estimation for {} train set\".format(train_type), fontsize=16, fontweight='bold')\n",
    "ax[0].plot(x, results['vit']['shared_gt'][:, 0], 'b')\n",
    "ax[0].plot(x, results['vit']['shared_pred'][:, 0], 'r')\n",
    "ax[0].plot(x, results['cnn']['shared_pred'][:, 0], 'g')\n",
    "ax[0].legend([\"Ground truth\", \"ViST\" if include_state else \"ViT\", \"VSCNN\" if include_state else \"VCNN\"], fontsize=10)\n",
    "ax[0].set_ylabel(\"Force X (N)\", fontsize=12)\n",
    "ax[1].plot(x, results['vit']['shared_gt'][:, 1], 'b')\n",
    "ax[1].plot(x, results['vit']['shared_pred'][:, 1], 'r')\n",
    "ax[1].plot(x, results['cnn']['shared_pred'][:, 1], 'g')\n",
    "ax[1].set_ylabel(\"Force Y (N)\", fontsize=12)\n",
    "ax[2].plot(x, results['vit']['shared_gt'][:, 2], 'b')\n",
    "ax[2].plot(x, results['vit']['shared_pred'][:, 2], 'r')\n",
    "ax[2].plot(x, results['cnn']['shared_pred'][:, 2], 'g')\n",
    "ax[2].set_ylabel(\"Force Z (N)\", fontsize=12)\n",
    "ax[2].set_xlabel(\"Time (s)\", fontsize=12)\n",
    "fig.align_labels()\n",
    "\n",
    "fig.savefig('figures/shared/predictions_{}.png'.format(train_type), dpi=800)"
   ]
  },
  {
   "cell_type": "code",
   "execution_count": null,
   "metadata": {},
   "outputs": [],
   "source": [
    "name = ['ViST', 'VSCNN']\n",
    "rmse_values = [results['vit']['shared_rmse'].mean(), results['cnn']['shared_rmse'].mean()]\n",
    "fig = plt.figure(figsize = (7, 5))\n",
    "plt.bar(name[0], rmse_values[0], color='red', width=0.5)\n",
    "plt.bar(name[1], rmse_values[1], color='green', width=0.5)\n",
    "plt.xlabel('Network architectures', fontsize=12)\n",
    "plt.ylabel('RMSE (N)', fontsize=12)\n",
    "plt.title('Error for {} train set'.format(train_type), fontsize=16, fontweight='bold')\n",
    "\n",
    "fig.savefig('figures/shared/metrics_{}.png'.format(train_type), dpi=800)"
   ]
  },
  {
   "cell_type": "code",
   "execution_count": null,
   "metadata": {},
   "outputs": [],
   "source": [
    "# Cell to plot the force estimation for both the cnn and the vit to compare with the ground truth\n",
    "x = (1/30)*np.linspace(0, 580, len(results['vit']['gt']))\n",
    "\n",
    "fig, ax = plt.subplots(ncols=1, nrows=3, sharex=False, sharey = False, figsize=(12, 6))\n",
    "fig.suptitle(\"Force estimation for {} shift\".format(train_type), fontsize=16, fontweight='bold')\n",
    "ax[0].plot(x, results['vit']['test_gt'][:, 0], 'b')\n",
    "ax[0].plot(x, results['vit']['test_pred'][:, 0], 'r')\n",
    "ax[0].plot(x, results['cnn']['test_pred'][:, 0], 'g')\n",
    "ax[0].legend([\"Ground truth\", \"ViST\" if include_state else \"ViT\", \"VSCNN\" if include_state else \"VCNN\"], fontsize=10)\n",
    "ax[0].set_ylabel(\"Force X (N)\", fontsize=12)\n",
    "ax[1].plot(x, results['vit']['test_gt'][:, 1], 'b')\n",
    "ax[1].plot(x, results['vit']['test_pred'][:, 1], 'r')\n",
    "ax[1].plot(x, results['cnn']['test_pred'][:, 1], 'g')\n",
    "ax[1].set_ylabel(\"Force Y (N)\", fontsize=12)\n",
    "ax[2].plot(x, results['vit']['test_gt'][:, 2], 'b')\n",
    "ax[2].plot(x, results['vit']['test_pred'][:, 2], 'r')\n",
    "ax[2].plot(x, results['cnn']['test_pred'][:, 2], 'g')\n",
    "ax[2].set_ylabel(\"Force Z (N)\", fontsize=12)\n",
    "ax[2].set_xlabel(\"Time (s)\", fontsize=12)\n",
    "fig.align_labels()\n",
    "\n",
    "fig.savefig('figures/test/predictions_{}.png'.format(train_type), dpi=800)"
   ]
  },
  {
   "cell_type": "code",
   "execution_count": null,
   "metadata": {},
   "outputs": [],
   "source": [
    "name = ['ViST', 'VSCNN']\n",
    "rmse_values = [results['vit']['test_rmse'].mean(), results['cnn']['test_rmse'].mean()]\n",
    "fig = plt.figure(figsize = (7, 5))\n",
    "plt.bar(name[0], rmse_values[0], color='red', width=0.5)\n",
    "plt.bar(name[1], rmse_values[1], color='green', width=0.5)\n",
    "plt.xlabel('Network architectures', fontsize=12)\n",
    "plt.ylabel('RMSE (N)', fontsize=12)\n",
    "plt.title('Error for {} shift'.format(train_type), fontsize=16, fontweight='bold')\n",
    "\n",
    "fig.savefig('figures/test/metrics_{}.png'.format(train_type), dpi=800)"
   ]
  },
  {
   "cell_type": "code",
   "execution_count": null,
   "metadata": {},
   "outputs": [],
   "source": []
  }
 ],
 "metadata": {
  "kernelspec": {
   "display_name": "py3.11",
   "language": "python",
   "name": "python3"
  },
  "language_info": {
   "codemirror_mode": {
    "name": "ipython",
    "version": 3
   },
   "file_extension": ".py",
   "mimetype": "text/x-python",
   "name": "python",
   "nbconvert_exporter": "python",
   "pygments_lexer": "ipython3",
   "version": "3.11.0 | packaged by conda-forge | (main, Oct 25 2022, 06:24:40) [GCC 10.4.0]"
  },
  "orig_nbformat": 4,
  "vscode": {
   "interpreter": {
    "hash": "be17f01356bc3fe61b2f98816b02e4e5e5b547bfe2b5c8974c8f0394e0dd0b66"
   }
  }
 },
 "nbformat": 4,
 "nbformat_minor": 2
}
