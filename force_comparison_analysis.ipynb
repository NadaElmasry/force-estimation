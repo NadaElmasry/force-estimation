{
 "cells": [
  {
   "cell_type": "code",
   "execution_count": 4,
   "metadata": {},
   "outputs": [],
   "source": [
    "import matplotlib.pyplot as plt\n",
    "import numpy as np\n",
    "from matplotlib.gridspec import GridSpec\n",
    "from matplotlib.animation import FuncAnimation\n",
    "import os\n",
    "from path import Path\n",
    "import pickle\n",
    "from prettytable import PrettyTable\n",
    "plt.rcParams[\"font.family\"] = \"serif\"\n",
    "plt.rcParams['font.serif'] = ['Times New Roman'] + plt.rcParams['font.serif']\n",
    "plt.rc('xtick', labelsize=14)    # fontsize of the tick labels\n",
    "plt.rc('ytick', labelsize=14) "
   ]
  },
  {
   "cell_type": "code",
   "execution_count": 5,
   "metadata": {},
   "outputs": [],
   "source": [
    "# First run the test.py to create the results pickle file for analysis\n",
    "architectures = ['vit', 'cnn', 'vit-base', 'cnn-bam']\n",
    "features = ['random']\n",
    "save_dir = Path('results')"
   ]
  },
  {
   "cell_type": "code",
   "execution_count": 8,
   "metadata": {},
   "outputs": [
    {
     "name": "stdout",
     "output_type": "stream",
     "text": [
      "+----------------+---------------+-------------+\n",
      "|     Models     | random_shared | random_test |\n",
      "+----------------+---------------+-------------+\n",
      "|    vit_visu    |      0.23     |     0.33    |\n",
      "|   vit_state    |      0.21     |     0.28    |\n",
      "|    cnn_visu    |      0.22     |     0.23    |\n",
      "|   cnn_state    |      0.22     |     0.34    |\n",
      "| vit-base_visu  |      0.23     |     0.26    |\n",
      "| vit-base_state |      0.19     |     0.21    |\n",
      "|  cnn-bam_visu  |      0.23     |     0.22    |\n",
      "| cnn-bam_state  |      0.22     |     0.27    |\n",
      "+----------------+---------------+-------------+\n"
     ]
    }
   ],
   "source": [
    "# Load the data file or files\n",
    "t_rmse = PrettyTable()\n",
    "t_dtw = PrettyTable()\n",
    "t_rmse.field_names = [\"Models\"] + [\"{}_shared\".format(a) for a in features] + [\"{}_test\".format(a) for a in features]\n",
    "results = {}\n",
    "for arch in architectures:\n",
    "    shared_rmse_v, shared_rmse_s = [], []\n",
    "    test_rmse_v, test_rmse_s = [], []\n",
    "    for f in features:\n",
    "        file_v = save_dir/\"{}_visu_{}.pkl\".format(arch, f)\n",
    "        with open(file_v, 'rb') as fileobject:\n",
    "            results_v = pickle.load(fileobject)\n",
    "        file_s = save_dir/\"{}_state_{}.pkl\".format(arch, f)\n",
    "        with open(file_s, 'rb') as fileobject:\n",
    "            results_s = pickle.load(fileobject)\n",
    "        results[\"{}_visu_{}\".format(arch, f)] = results_v\n",
    "        results[\"{}_state_{}\".format(arch, f)] = results_s\n",
    "        shared_rmse_s.append((results_s['shared_rmse'].mean() - results_s['shared_rmse'].min()) / (results_s['shared_rmse'].max() - results_s['shared_rmse'].min()))\n",
    "        shared_rmse_v.append((results_v['shared_rmse'].mean() - results_v['shared_rmse'].min()) / (results_v['shared_rmse'].max() - results_v['shared_rmse'].min()))\n",
    "        test_rmse_s.append((results_s['test_rmse'].mean() - results_s['test_rmse'].min()) / (results_s['test_rmse'].max() - results_s['test_rmse'].min()))\n",
    "        test_rmse_v.append((results_v['test_rmse'].mean() - results_v['test_rmse'].min()) / (results_v['test_rmse'].max() - results_v['test_rmse'].min()))\n",
    "\n",
    "    t_rmse.add_row([\"{}_visu\".format(arch)] + [\"{:.2f}\".format(a) for a in shared_rmse_v] + [\"{:.2f}\".format(a) for a in test_rmse_v])\n",
    "    t_rmse.add_row([\"{}_state\".format(arch)] + [\"{:.2f}\".format(a) for a in shared_rmse_s] + [\"{:.2f}\".format(a) for a in test_rmse_s])\n",
    "\n",
    "print(t_rmse)"
   ]
  },
  {
   "cell_type": "code",
   "execution_count": null,
   "metadata": {},
   "outputs": [],
   "source": [
    "# Cell to plot the force estimation for the shared shareding set\n",
    "x_visu = (1/30)*np.linspace(0, 600, 600)\n",
    "x = (1/30)*np.linspace(0, 600, len(results['vit_state_random']['shared_gt']))\n",
    "my_dpi = 100\n",
    "labels = ['X', 'Y', 'Z']\n",
    "for f in features:\n",
    "\n",
    "    fig, axs = plt.subplots(ncols=1, nrows=3, sharex=True, sharey=False, figsize=(1920/my_dpi, 1080/my_dpi), dpi=my_dpi)\n",
    "    fig.suptitle(\"Vision only force estimation for {} seen environment\".format(f), fontsize=24, fontweight='bold')\n",
    "\n",
    "    for j, ax in enumerate(axs):\n",
    "\n",
    "        ax.plot(x, results['vit_state_{}'.format(f)]['shared_gt'][:, j], 'b', linewidth=3.0)\n",
    "        ax.plot(x_visu, results['vit_visu_{}'.format(f)]['shared_pred'][:, j], 'k', linewidth=3.0)\n",
    "        ax.plot(x_visu, results['vit-base_visu_{}'.format(f)]['shared_pred'][:, j], 'r', linewidth=3.0)\n",
    "        ax.plot(x_visu, results['cnn_visu_{}'.format(f)]['shared_pred'][:, j], 'g', linewidth=3.0)\n",
    "        ax.plot(x_visu, results['cnn-bam_visu_{}'.format(f)]['shared_pred'][:, j], 'y', linewidth=3.0)\n",
    "        ax.legend([\"GT\", 'ViT-samp', 'ViT', 'CNN', 'BAM-CNN'], fontsize=14)\n",
    "        ax.set_ylabel(\"Force {} (N)\".format(labels[j]), fontsize=16, fontweight='bold')\n",
    "        if j == 2:\n",
    "            ax.set_xlabel(\"Time (s)\", fontsize=16, fontweight='bold')\n",
    "\n",
    "    fig.align_labels()\n",
    "    fig.savefig('figures/shared/{}_visu.png'.format(f), dpi=my_dpi)\n",
    "    #plt.show()\n",
    "\n",
    "    fig, axs = plt.subplots(ncols=1, nrows=3, sharex=True, sharey=False, figsize=(1920/my_dpi, 1080/my_dpi), dpi=my_dpi)\n",
    "    fig.suptitle(\"Vision+state force estimation for {} seen environment\".format(f), fontsize=24, fontweight='bold')\n",
    "\n",
    "    for j, ax in enumerate(axs):\n",
    "\n",
    "        ax.plot(x, results['vit_state_{}'.format(f)]['shared_gt'][:, j], 'b', linewidth=3.0)\n",
    "        ax.plot(x, results['vit_state_{}'.format(f)]['shared_pred'][:, j], 'k', linewidth=3.0)\n",
    "        ax.plot(x, results['vit-base_state_{}'.format(f)]['shared_pred'][:, j], 'r', linewidth=3.0)\n",
    "        ax.plot(x, results['cnn_state_{}'.format(f)]['shared_pred'][:, j], 'g', linewidth=3.0)\n",
    "        ax.plot(x, results['cnn-bam_state_{}'.format(f)]['shared_pred'][:, j], 'y', linewidth=3.0)\n",
    "        ax.legend([\"GT\", 'ViT-samp', 'ViT', 'CNN', 'BAM-CNN'], fontsize=14)\n",
    "        ax.set_ylabel(\"Force {} (N)\".format(labels[j]), fontsize=16, fontweight='bold')\n",
    "        if j == 2:\n",
    "            ax.set_xlabel(\"Time (s)\", fontsize=16, fontweight='bold')\n",
    "\n",
    "    fig.align_labels()\n",
    "    # fig.savefig('figures/shared/{}_state.png'.format(f), dpi=my_dpi)\n",
    "    plt.show()"
   ]
  },
  {
   "cell_type": "code",
   "execution_count": null,
   "metadata": {},
   "outputs": [],
   "source": [
    "# Cell to plot the force estimation for the unseen testing set\n",
    "x_visu = (1/30)*np.linspace(0, 600, 600)\n",
    "x = (1/30)*np.linspace(0, 600, len(results['vit_state_random']['test_gt']))\n",
    "my_dpi = 100\n",
    "labels = ['X', 'Y', 'Z']\n",
    "\n",
    "for f in features:\n",
    "\n",
    "    fig, axs = plt.subplots(ncols=1, nrows=3, sharex=True, sharey=False, figsize=(1920/my_dpi, 1080/my_dpi), dpi=my_dpi)\n",
    "    fig.suptitle(\"Vision only force estimation for {} unseen environment\".format(f), fontsize=24, fontweight='bold')\n",
    "\n",
    "    for j, ax in enumerate(axs):\n",
    "\n",
    "        ax.plot(x, results['vit_state_{}'.format(f)]['test_gt'][:, j], 'b', linewidth=3.0)\n",
    "        ax.plot(x_visu, results['vit_visu_{}'.format(f)]['test_pred'][:, j], 'k', linewidth=3.0)\n",
    "        ax.plot(x_visu, results['vit-base_visu_{}'.format(f)]['test_pred'][:, j], 'r', linewidth=3.0)\n",
    "        ax.plot(x_visu, results['cnn_visu_{}'.format(f)]['test_pred'][:, j], 'g', linewidth=3.0)\n",
    "        ax.plot(x_visu, results['cnn-bam_visu_{}'.format(f)]['test_pred'][:, j], 'y', linewidth=3.0)\n",
    "        ax.legend([\"GT\", 'ViT-samp', 'ViT', 'CNN', 'BAM-CNN'], fontsize=14)\n",
    "        ax.set_ylabel(\"Force {} (N)\".format(labels[j]), fontsize=16, fontweight='bold')\n",
    "        if j == 2:\n",
    "            ax.set_xlabel(\"Time (s)\", fontsize=16, fontweight='bold')\n",
    "\n",
    "    fig.align_labels()\n",
    "    fig.savefig('figures/test/{}_visu.png'.format(f), dpi=my_dpi)\n",
    "    # plt.show()\n",
    "\n",
    "    fig, axs = plt.subplots(ncols=1, nrows=3, sharex=True, sharey=False, figsize=(1920/my_dpi, 1080/my_dpi), dpi=my_dpi)\n",
    "    fig.suptitle(\"Vision+state force estimation for {} unseen environment\".format(f), fontsize=24, fontweight='bold')\n",
    "\n",
    "    for j, ax in enumerate(axs):\n",
    "\n",
    "        ax.plot(x, results['vit_state_{}'.format(f)]['test_gt'][:, j], 'b', linewidth=3.0)\n",
    "        ax.plot(x, results['vit_state_{}'.format(f)]['test_pred'][:, j], 'k', linewidth=3.0)\n",
    "        ax.plot(x, results['vit-base_state_{}'.format(f)]['test_pred'][:, j], 'r', linewidth=3.0)\n",
    "        ax.plot(x, results['cnn_state_{}'.format(f)]['test_pred'][:, j], 'g', linewidth=3.0)\n",
    "        ax.plot(x, results['cnn-bam_state_{}'.format(f)]['test_pred'][:, j], 'y', linewidth=3.0)\n",
    "        ax.legend([\"GT\", 'ViT-samp', 'ViT', 'CNN', 'BAM-CNN'], fontsize=14)\n",
    "        ax.set_ylabel(\"Force {} (N)\".format(labels[j]), fontsize=16, fontweight='bold')\n",
    "        if j == 2:\n",
    "            ax.set_xlabel(\"Time (s)\", fontsize=16, fontweight='bold')\n",
    "\n",
    "    fig.align_labels()\n",
    "    # fig.savefig('figures/test/{}_state.png'.format(f), dpi=my_dpi)\n",
    "    plt.show()"
   ]
  },
  {
   "cell_type": "code",
   "execution_count": null,
   "metadata": {},
   "outputs": [],
   "source": []
  }
 ],
 "metadata": {
  "kernelspec": {
   "display_name": "py3.11",
   "language": "python",
   "name": "python3"
  },
  "language_info": {
   "codemirror_mode": {
    "name": "ipython",
    "version": 3
   },
   "file_extension": ".py",
   "mimetype": "text/x-python",
   "name": "python",
   "nbconvert_exporter": "python",
   "pygments_lexer": "ipython3",
   "version": "3.11.0"
  },
  "orig_nbformat": 4,
  "vscode": {
   "interpreter": {
    "hash": "be17f01356bc3fe61b2f98816b02e4e5e5b547bfe2b5c8974c8f0394e0dd0b66"
   }
  }
 },
 "nbformat": 4,
 "nbformat_minor": 2
}
