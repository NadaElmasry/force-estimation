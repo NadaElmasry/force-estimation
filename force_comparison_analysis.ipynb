{
 "cells": [
  {
   "cell_type": "code",
   "execution_count": null,
   "metadata": {},
   "outputs": [],
   "source": [
    "import matplotlib.pyplot as plt\n",
    "import numpy as np\n",
    "from matplotlib.gridspec import GridSpec\n",
    "from matplotlib.animation import FuncAnimation\n",
    "import os\n",
    "from path import Path\n",
    "import pickle\n",
    "plt.rcParams[\"font.family\"] = \"serif\"\n",
    "plt.rcParams['font.serif'] = ['Times New Roman'] + plt.rcParams['font.serif']\n",
    "plt.rc('xtick', labelsize=14)    # fontsize of the tick labels\n",
    "plt.rc('ytick', labelsize=14) "
   ]
  },
  {
   "cell_type": "code",
   "execution_count": null,
   "metadata": {},
   "outputs": [],
   "source": [
    "# First run the test.py to create the results pickle file for analysis\n",
    "architectures = ['vit', 'cnn']\n",
    "include_state = True\n",
    "train_type = 'random'\n",
    "save_dir = Path('results')"
   ]
  },
  {
   "cell_type": "code",
   "execution_count": null,
   "metadata": {},
   "outputs": [],
   "source": [
    "# Load the data file or files\n",
    "results = {}\n",
    "for arch in architectures:\n",
    "    filename = save_dir/'{}_{}_{}.pkl'.format(arch, \"state\" if include_state else \"visu\", train_type)\n",
    "    with open(filename, 'rb') as f:\n",
    "        data = pickle.load(f)\n",
    "    results[arch] = data\n"
   ]
  },
  {
   "cell_type": "code",
   "execution_count": null,
   "metadata": {},
   "outputs": [],
   "source": [
    "# Cell to plot the force estimation for both the cnn and the vit to compare with the ground truth\n",
    "x = (1/30)*np.linspace(0, 580, len(results['vit']['shared_gt']))\n",
    "my_dpi = 100\n",
    "\n",
    "fig, ax = plt.subplots(ncols=1, nrows=3, sharex=False, sharey = False, figsize=(1920/my_dpi, 1080/my_dpi), dpi=my_dpi)\n",
    "fig.suptitle(\"Force estimation for {} train set\".format(train_type), fontsize=24, fontweight='bold')\n",
    "ax[0].plot(x, results['vit']['shared_gt'][:, 0], 'b', linewidth=3.0)\n",
    "ax[0].plot(x, results['vit']['shared_pred'][:, 0], 'r', linewidth=3.0)\n",
    "ax[0].plot(x, results['cnn']['shared_pred'][:, 0], 'g', linewidth=3.0)\n",
    "ax[0].legend([\"Ground truth\", \"ViST\" if include_state else \"ViT\", \"VSCNN\" if include_state else \"VCNN\"], fontsize=14)\n",
    "ax[0].set_ylabel(\"Force X (N)\", fontsize=16, fontweight='bold')\n",
    "ax[1].plot(x, results['vit']['shared_gt'][:, 1], 'b', linewidth=3.0)\n",
    "ax[1].plot(x, results['vit']['shared_pred'][:, 1], 'r', linewidth=3.0)\n",
    "ax[1].plot(x, results['cnn']['shared_pred'][:, 1], 'g', linewidth=3.0)\n",
    "ax[1].set_ylabel(\"Force Y (N)\", fontsize=16, fontweight='bold')\n",
    "ax[2].plot(x, results['vit']['shared_gt'][:, 2], 'b', linewidth=3.0)\n",
    "ax[2].plot(x, results['vit']['shared_pred'][:, 2], 'r', linewidth=3.0)\n",
    "ax[2].plot(x, results['cnn']['shared_pred'][:, 2], 'g', linewidth=3.0)\n",
    "ax[2].set_ylabel(\"Force Z (N)\", fontsize=16, fontweight='bold')\n",
    "ax[2].set_xlabel(\"Time (s)\", fontsize=16, fontweight='bold')\n",
    "fig.align_labels()\n",
    "\n",
    "fig.savefig('figures/shared/predictions_{}.png'.format(train_type), dpi=my_dpi)"
   ]
  },
  {
   "cell_type": "code",
   "execution_count": null,
   "metadata": {},
   "outputs": [],
   "source": [
    "# Cell to plot the force estimation for both the cnn and the vit to compare with the ground truth\n",
    "x = (1/30)*np.linspace(0, 580, len(results['vit']['test_gt']))\n",
    "\n",
    "fig, ax = plt.subplots(ncols=1, nrows=3, sharex=False, sharey = False, figsize=(1920/my_dpi, 1080/my_dpi), dpi=my_dpi)\n",
    "fig.suptitle(\"Force estimation for {} shift\".format(train_type), fontsize=24, fontweight='bold')\n",
    "ax[0].plot(x, results['vit']['test_gt'][:, 0], 'b', linewidth=3.0)\n",
    "ax[0].plot(x, results['vit']['test_pred'][:, 0], 'r', linewidth=3.0)\n",
    "ax[0].plot(x, results['cnn']['test_pred'][:, 0], 'g', linewidth=3.0)\n",
    "ax[0].legend([\"Ground truth\", \"ViST\" if include_state else \"ViT\", \"VSCNN\" if include_state else \"VCNN\"], fontsize=14, loc='lower left')\n",
    "ax[0].set_ylabel(\"Force X (N)\", fontsize=16, fontweight='bold')\n",
    "ax[1].plot(x, results['vit']['test_gt'][:, 1], 'b', linewidth=3.0)\n",
    "ax[1].plot(x, results['vit']['test_pred'][:, 1], 'r', linewidth=3.0)\n",
    "ax[1].plot(x, results['cnn']['test_pred'][:, 1], 'g', linewidth=3.0)\n",
    "ax[1].set_ylabel(\"Force Y (N)\", fontsize=16, fontweight='bold')\n",
    "ax[2].plot(x, results['vit']['test_gt'][:, 2], 'b', linewidth=3.0)\n",
    "ax[2].plot(x, results['vit']['test_pred'][:, 2], 'r', linewidth=3.0)\n",
    "ax[2].plot(x, results['cnn']['test_pred'][:, 2], 'g', linewidth=3.0)\n",
    "ax[2].set_ylabel(\"Force Z (N)\", fontsize=16, fontweight='bold')\n",
    "ax[2].set_xlabel(\"Time (s)\", fontsize=16, fontweight='bold')\n",
    "fig.align_labels()\n",
    "\n",
    "fig.savefig('figures/test/predictions_{}.png'.format(train_type), dpi=my_dpi)"
   ]
  },
  {
   "cell_type": "code",
   "execution_count": null,
   "metadata": {},
   "outputs": [],
   "source": [
    "experiments = [\"color\", \"geometry\", \"random\", \"stiffness\", \"structure\"]\n",
    "for exp in experiments:\n",
    "    for arch in architectures:\n",
    "        filename = save_dir/'{}_{}_{}.pkl'.format(arch, \"state\" if include_state else \"visu\", exp)\n",
    "        with open(filename, 'rb') as f:\n",
    "            data = pickle.load(f)\n",
    "        print(\"{} | {} | RMSE -- Common env. mean={}, std={} -- Unseen env. mean={}, std={}\".format(arch, exp, data['shared_rmse'].mean(), data['shared_rmse'].std(), data['test_rmse'].mean(), data['test_rmse'].std()))"
   ]
  },
  {
   "cell_type": "code",
   "execution_count": null,
   "metadata": {},
   "outputs": [],
   "source": [
    "# Cell to plot the force estimation for both the cnn and the vit to compare with the ground truth\n",
    "x = (1/30)*np.linspace(0, 580, len(results['vit']['shared_gt']))\n",
    "my_dpi = 100\n",
    "\n",
    "fig, ax = plt.subplots(ncols=1, nrows=3, sharex=False, sharey = False, figsize=(1920/my_dpi, 1080/my_dpi), dpi=my_dpi)\n",
    "ax[0].plot(x, results['vit']['shared_gt'][:, 0], 'r', linewidth=5.0)\n",
    "ax[0].set_ylabel(\"X\", fontsize=22, fontweight='bold', loc='center', labelpad=0)\n",
    "ax[0].yaxis.label.set_color('red')\n",
    "ax[0].set_xticks([])\n",
    "ax[0].set_yticks([])\n",
    "ax[1].plot(x, results['vit']['shared_gt'][:, 1], 'b', linewidth=5.0)\n",
    "ax[1].set_ylabel(\"Y\", fontsize=22, fontweight='bold', loc='center', labelpad=0)\n",
    "ax[1].yaxis.label.set_color('blue')\n",
    "ax[1].set_xticks([])\n",
    "ax[1].set_yticks([])\n",
    "ax[2].plot(x, results['vit']['shared_gt'][:, 2], 'g', linewidth=5.0)\n",
    "ax[2].set_ylabel(\"Z\", fontsize=22, fontweight='bold', labelpad=0)\n",
    "ax[2].yaxis.label.set_color('green')\n",
    "ax[2].set_xticks([])\n",
    "ax[2].set_yticks([])\n",
    "fig.align_labels()\n",
    "\n",
    "fig.savefig('figures/force_gt.png'.format(train_type), dpi=my_dpi)"
   ]
  },
  {
   "cell_type": "code",
   "execution_count": null,
   "metadata": {},
   "outputs": [],
   "source": [
    "x = (1/30)*np.linspace(0, 580, len(results['vit']['shared_gt']))\n",
    "my_dpi = 100\n",
    "\n",
    "fig, ax = plt.subplots(ncols=1, nrows=3, sharex=False, sharey = False, figsize=(1920/my_dpi, 1080/my_dpi), dpi=my_dpi)\n",
    "ax[0].plot(x, results['vit']['shared_pred'][:, 0], 'r', linewidth=5.0)\n",
    "ax[0].set_ylabel(\"X\", fontsize=22, fontweight='bold', loc='center', labelpad=0)\n",
    "ax[0].set_xticks([])\n",
    "ax[0].set_yticks([])\n",
    "ax[0].yaxis.label.set_color('red')\n",
    "ax[0].set_facecolor('#E3E4E4')\n",
    "ax[1].plot(x, results['vit']['shared_pred'][:, 1], 'b', linewidth=5.0)\n",
    "ax[1].set_ylabel(\"Y\", fontsize=22, fontweight='bold', loc='center', labelpad=0)\n",
    "ax[1].yaxis.label.set_color('blue')\n",
    "ax[1].set_facecolor('#E3E4E4')\n",
    "ax[1].set_xticks([])\n",
    "ax[1].set_yticks([])\n",
    "ax[2].plot(x, results['vit']['shared_pred'][:, 2], 'g', linewidth=5.0)\n",
    "ax[2].set_ylabel(\"Z\", fontsize=22, fontweight='bold', labelpad=0)\n",
    "ax[2].yaxis.label.set_color('green')\n",
    "ax[2].set_xticks([])\n",
    "ax[2].set_yticks([])\n",
    "ax[2].set_facecolor('#E3E4E4')\n",
    "fig.align_labels()\n",
    "fig.set_facecolor(\"#E3E4E4\")\n",
    "\n",
    "fig.savefig('figures/force_pred.png'.format(train_type), dpi=my_dpi)"
   ]
  },
  {
   "cell_type": "code",
   "execution_count": null,
   "metadata": {},
   "outputs": [],
   "source": []
  }
 ],
 "metadata": {
  "kernelspec": {
   "display_name": "py3.11",
   "language": "python",
   "name": "python3"
  },
  "language_info": {
   "codemirror_mode": {
    "name": "ipython",
    "version": 3
   },
   "file_extension": ".py",
   "mimetype": "text/x-python",
   "name": "python",
   "nbconvert_exporter": "python",
   "pygments_lexer": "ipython3",
   "version": "3.11.0 | packaged by conda-forge | (main, Oct 25 2022, 06:24:40) [GCC 10.4.0]"
  },
  "orig_nbformat": 4,
  "vscode": {
   "interpreter": {
    "hash": "be17f01356bc3fe61b2f98816b02e4e5e5b547bfe2b5c8974c8f0394e0dd0b66"
   }
  }
 },
 "nbformat": 4,
 "nbformat_minor": 2
}
